{
 "cells": [
  {
   "cell_type": "markdown",
   "id": "5c40ea1e-817d-4985-8bb5-1b170d4b9afb",
   "metadata": {},
   "source": [
    "# SPACY\n",
    "# If you want to find a part of speech POS ,and you want to do  NER (Name Entity Recognization)"
   ]
  },
  {
   "cell_type": "code",
   "execution_count": 1,
   "id": "86339e8e-7d00-450d-b4ae-e0cd147709dd",
   "metadata": {},
   "outputs": [],
   "source": [
    "import spacy\n",
    "import en_core_web_sm"
   ]
  },
  {
   "cell_type": "markdown",
   "id": "086ed486-f8fb-40ac-8e36-2852505f443e",
   "metadata": {},
   "source": [
    "### en_core_web_sm is a small English language model created by spaCy, a library for natural language processing in Python. It can be used to perform a variety of tasks, such as tokenization, part-of-speech tagging, named entity recognition, and more. The \"sm\" in the name stands for \"small\", indicating that it is a smaller version of the en_core_web_md, which is a medium-sized model, and en_core_web_lg, which is a large model. The smaller the model, the less computational resources it requires, but it may not be as accurate as a larger model."
   ]
  },
  {
   "cell_type": "code",
   "execution_count": 2,
   "id": "127d72d9-c358-4fcd-b552-8df9cba62347",
   "metadata": {},
   "outputs": [],
   "source": [
    "lang = spacy.load('en_core_web_sm')"
   ]
  },
  {
   "cell_type": "markdown",
   "id": "cb0088bf-0e37-44e5-a351-70746ce2851e",
   "metadata": {},
   "source": [
    "### spacy.load('en_core_web_sm') is a command in Python that loads the en_core_web_sm model from the spaCy library."
   ]
  },
  {
   "cell_type": "code",
   "execution_count": 3,
   "id": "d68d329f-9aea-40b1-ba5d-acdfbbc8450a",
   "metadata": {},
   "outputs": [
    {
     "data": {
      "text/html": [
       "<div>\n",
       "<style scoped>\n",
       "    .dataframe tbody tr th:only-of-type {\n",
       "        vertical-align: middle;\n",
       "    }\n",
       "\n",
       "    .dataframe tbody tr th {\n",
       "        vertical-align: top;\n",
       "    }\n",
       "\n",
       "    .dataframe thead th {\n",
       "        text-align: right;\n",
       "    }\n",
       "</style>\n",
       "<table border=\"1\" class=\"dataframe\">\n",
       "  <thead>\n",
       "    <tr style=\"text-align: right;\">\n",
       "      <th></th>\n",
       "      <th>Unnamed: 0</th>\n",
       "      <th>country</th>\n",
       "      <th>description</th>\n",
       "      <th>designation</th>\n",
       "      <th>points</th>\n",
       "      <th>price</th>\n",
       "      <th>province</th>\n",
       "      <th>region_1</th>\n",
       "      <th>region_2</th>\n",
       "      <th>taster_name</th>\n",
       "      <th>taster_twitter_handle</th>\n",
       "      <th>title</th>\n",
       "      <th>variety</th>\n",
       "      <th>winery</th>\n",
       "    </tr>\n",
       "  </thead>\n",
       "  <tbody>\n",
       "    <tr>\n",
       "      <th>0</th>\n",
       "      <td>0</td>\n",
       "      <td>Italy</td>\n",
       "      <td>Aromas include tropical fruit, broom, brimston...</td>\n",
       "      <td>Vulkà Bianco</td>\n",
       "      <td>87</td>\n",
       "      <td>NaN</td>\n",
       "      <td>Sicily &amp; Sardinia</td>\n",
       "      <td>Etna</td>\n",
       "      <td>NaN</td>\n",
       "      <td>Kerin O’Keefe</td>\n",
       "      <td>@kerinokeefe</td>\n",
       "      <td>Nicosia 2013 Vulkà Bianco  (Etna)</td>\n",
       "      <td>White Blend</td>\n",
       "      <td>Nicosia</td>\n",
       "    </tr>\n",
       "    <tr>\n",
       "      <th>1</th>\n",
       "      <td>1</td>\n",
       "      <td>Portugal</td>\n",
       "      <td>This is ripe and fruity, a wine that is smooth...</td>\n",
       "      <td>Avidagos</td>\n",
       "      <td>87</td>\n",
       "      <td>15.0</td>\n",
       "      <td>Douro</td>\n",
       "      <td>NaN</td>\n",
       "      <td>NaN</td>\n",
       "      <td>Roger Voss</td>\n",
       "      <td>@vossroger</td>\n",
       "      <td>Quinta dos Avidagos 2011 Avidagos Red (Douro)</td>\n",
       "      <td>Portuguese Red</td>\n",
       "      <td>Quinta dos Avidagos</td>\n",
       "    </tr>\n",
       "    <tr>\n",
       "      <th>2</th>\n",
       "      <td>2</td>\n",
       "      <td>US</td>\n",
       "      <td>Tart and snappy, the flavors of lime flesh and...</td>\n",
       "      <td>NaN</td>\n",
       "      <td>87</td>\n",
       "      <td>14.0</td>\n",
       "      <td>Oregon</td>\n",
       "      <td>Willamette Valley</td>\n",
       "      <td>Willamette Valley</td>\n",
       "      <td>Paul Gregutt</td>\n",
       "      <td>@paulgwine</td>\n",
       "      <td>Rainstorm 2013 Pinot Gris (Willamette Valley)</td>\n",
       "      <td>Pinot Gris</td>\n",
       "      <td>Rainstorm</td>\n",
       "    </tr>\n",
       "    <tr>\n",
       "      <th>3</th>\n",
       "      <td>3</td>\n",
       "      <td>US</td>\n",
       "      <td>Pineapple rind, lemon pith and orange blossom ...</td>\n",
       "      <td>Reserve Late Harvest</td>\n",
       "      <td>87</td>\n",
       "      <td>13.0</td>\n",
       "      <td>Michigan</td>\n",
       "      <td>Lake Michigan Shore</td>\n",
       "      <td>NaN</td>\n",
       "      <td>Alexander Peartree</td>\n",
       "      <td>NaN</td>\n",
       "      <td>St. Julian 2013 Reserve Late Harvest Riesling ...</td>\n",
       "      <td>Riesling</td>\n",
       "      <td>St. Julian</td>\n",
       "    </tr>\n",
       "    <tr>\n",
       "      <th>4</th>\n",
       "      <td>4</td>\n",
       "      <td>US</td>\n",
       "      <td>Much like the regular bottling from 2012, this...</td>\n",
       "      <td>Vintner's Reserve Wild Child Block</td>\n",
       "      <td>87</td>\n",
       "      <td>65.0</td>\n",
       "      <td>Oregon</td>\n",
       "      <td>Willamette Valley</td>\n",
       "      <td>Willamette Valley</td>\n",
       "      <td>Paul Gregutt</td>\n",
       "      <td>@paulgwine</td>\n",
       "      <td>Sweet Cheeks 2012 Vintner's Reserve Wild Child...</td>\n",
       "      <td>Pinot Noir</td>\n",
       "      <td>Sweet Cheeks</td>\n",
       "    </tr>\n",
       "  </tbody>\n",
       "</table>\n",
       "</div>"
      ],
      "text/plain": [
       "   Unnamed: 0   country                                        description  \\\n",
       "0           0     Italy  Aromas include tropical fruit, broom, brimston...   \n",
       "1           1  Portugal  This is ripe and fruity, a wine that is smooth...   \n",
       "2           2        US  Tart and snappy, the flavors of lime flesh and...   \n",
       "3           3        US  Pineapple rind, lemon pith and orange blossom ...   \n",
       "4           4        US  Much like the regular bottling from 2012, this...   \n",
       "\n",
       "                          designation  points  price           province  \\\n",
       "0                        Vulkà Bianco      87    NaN  Sicily & Sardinia   \n",
       "1                            Avidagos      87   15.0              Douro   \n",
       "2                                 NaN      87   14.0             Oregon   \n",
       "3                Reserve Late Harvest      87   13.0           Michigan   \n",
       "4  Vintner's Reserve Wild Child Block      87   65.0             Oregon   \n",
       "\n",
       "              region_1           region_2         taster_name  \\\n",
       "0                 Etna                NaN       Kerin O’Keefe   \n",
       "1                  NaN                NaN          Roger Voss   \n",
       "2    Willamette Valley  Willamette Valley        Paul Gregutt   \n",
       "3  Lake Michigan Shore                NaN  Alexander Peartree   \n",
       "4    Willamette Valley  Willamette Valley        Paul Gregutt   \n",
       "\n",
       "  taster_twitter_handle                                              title  \\\n",
       "0          @kerinokeefe                  Nicosia 2013 Vulkà Bianco  (Etna)   \n",
       "1            @vossroger      Quinta dos Avidagos 2011 Avidagos Red (Douro)   \n",
       "2           @paulgwine       Rainstorm 2013 Pinot Gris (Willamette Valley)   \n",
       "3                   NaN  St. Julian 2013 Reserve Late Harvest Riesling ...   \n",
       "4           @paulgwine   Sweet Cheeks 2012 Vintner's Reserve Wild Child...   \n",
       "\n",
       "          variety               winery  \n",
       "0     White Blend              Nicosia  \n",
       "1  Portuguese Red  Quinta dos Avidagos  \n",
       "2      Pinot Gris            Rainstorm  \n",
       "3        Riesling           St. Julian  \n",
       "4      Pinot Noir         Sweet Cheeks  "
      ]
     },
     "execution_count": 3,
     "metadata": {},
     "output_type": "execute_result"
    }
   ],
   "source": [
    "import pandas as pd\n",
    "df = pd.read_csv('winemag-data-130k-v2.csv')\n",
    "df.head()"
   ]
  },
  {
   "cell_type": "code",
   "execution_count": 4,
   "id": "52d5ff53-ff7f-44b9-bc0d-8d5a09d43462",
   "metadata": {},
   "outputs": [
    {
     "data": {
      "text/plain": [
       "(129971, 14)"
      ]
     },
     "execution_count": 4,
     "metadata": {},
     "output_type": "execute_result"
    }
   ],
   "source": [
    "df.shape"
   ]
  },
  {
   "cell_type": "code",
   "execution_count": 5,
   "id": "8a4837f3-529b-4bfc-a642-8a1fa774674a",
   "metadata": {},
   "outputs": [
    {
     "name": "stdout",
     "output_type": "stream",
     "text": [
      "<class 'pandas.core.frame.DataFrame'>\n",
      "RangeIndex: 129971 entries, 0 to 129970\n",
      "Data columns (total 14 columns):\n",
      " #   Column                 Non-Null Count   Dtype  \n",
      "---  ------                 --------------   -----  \n",
      " 0   Unnamed: 0             129971 non-null  int64  \n",
      " 1   country                129908 non-null  object \n",
      " 2   description            129971 non-null  object \n",
      " 3   designation            92506 non-null   object \n",
      " 4   points                 129971 non-null  int64  \n",
      " 5   price                  120975 non-null  float64\n",
      " 6   province               129908 non-null  object \n",
      " 7   region_1               108724 non-null  object \n",
      " 8   region_2               50511 non-null   object \n",
      " 9   taster_name            103727 non-null  object \n",
      " 10  taster_twitter_handle  98758 non-null   object \n",
      " 11  title                  129971 non-null  object \n",
      " 12  variety                129970 non-null  object \n",
      " 13  winery                 129971 non-null  object \n",
      "dtypes: float64(1), int64(2), object(11)\n",
      "memory usage: 13.9+ MB\n"
     ]
    }
   ],
   "source": [
    "df.info()"
   ]
  },
  {
   "cell_type": "code",
   "execution_count": 6,
   "id": "1b01c1af-d98f-4581-8a20-0398a409d263",
   "metadata": {},
   "outputs": [
    {
     "data": {
      "text/plain": [
       "\"“Wow” is the first word that comes to mind when tasting this superconcentrated and immensely fruity wine. It practically overwhelms the nose and the palate with ripe, jammy boysenberry and blackberry, sprinkled with licorice and black-pepper nuances that add attractive complexity. It's a big wine all the way, but not extreme in alcohol.\""
      ]
     },
     "execution_count": 6,
     "metadata": {},
     "output_type": "execute_result"
    }
   ],
   "source": [
    "df.description.max()"
   ]
  },
  {
   "cell_type": "code",
   "execution_count": 7,
   "id": "77adc261-12bf-45d6-81fa-b4537e79a376",
   "metadata": {},
   "outputs": [
    {
     "data": {
      "text/plain": [
       "'Štoka 2011 Izbrani Teran (Kras)'"
      ]
     },
     "execution_count": 7,
     "metadata": {},
     "output_type": "execute_result"
    }
   ],
   "source": [
    "df.title.max()"
   ]
  },
  {
   "cell_type": "code",
   "execution_count": 8,
   "id": "685fbdf2-bccd-4d98-876c-0db806b47e95",
   "metadata": {},
   "outputs": [],
   "source": [
    "doc = lang(df.description.max())"
   ]
  },
  {
   "cell_type": "code",
   "execution_count": 9,
   "id": "9763dac9-3b33-43b5-b265-d238e3008255",
   "metadata": {},
   "outputs": [
    {
     "data": {
      "text/plain": [
       "spacy.tokens.doc.Doc"
      ]
     },
     "execution_count": 9,
     "metadata": {},
     "output_type": "execute_result"
    }
   ],
   "source": [
    "type(doc)"
   ]
  },
  {
   "cell_type": "code",
   "execution_count": 10,
   "id": "14c31e4e-9c33-4ad8-8c2c-406c8851c03c",
   "metadata": {},
   "outputs": [
    {
     "name": "stdout",
     "output_type": "stream",
     "text": [
      "“\n",
      "Wow\n",
      "”\n",
      "is\n",
      "the\n",
      "first\n",
      "word\n",
      "that\n",
      "comes\n",
      "to\n",
      "mind\n",
      "when\n",
      "tasting\n",
      "this\n",
      "superconcentrated\n",
      "and\n",
      "immensely\n",
      "fruity\n",
      "wine\n",
      ".\n",
      "It\n",
      "practically\n",
      "overwhelms\n",
      "the\n",
      "nose\n",
      "and\n",
      "the\n",
      "palate\n",
      "with\n",
      "ripe\n",
      ",\n",
      "jammy\n",
      "boysenberry\n",
      "and\n",
      "blackberry\n",
      ",\n",
      "sprinkled\n",
      "with\n",
      "licorice\n",
      "and\n",
      "black\n",
      "-\n",
      "pepper\n",
      "nuances\n",
      "that\n",
      "add\n",
      "attractive\n",
      "complexity\n",
      ".\n",
      "It\n",
      "'s\n",
      "a\n",
      "big\n",
      "wine\n",
      "all\n",
      "the\n",
      "way\n",
      ",\n",
      "but\n",
      "not\n",
      "extreme\n",
      "in\n",
      "alcohol\n",
      ".\n"
     ]
    }
   ],
   "source": [
    "for i in doc:\n",
    "    print(i)"
   ]
  },
  {
   "cell_type": "code",
   "execution_count": 11,
   "id": "f64f2611-ab0b-4307-ac90-4d40dd17a8fe",
   "metadata": {},
   "outputs": [
    {
     "name": "stdout",
     "output_type": "stream",
     "text": [
      "“ ==> PUNCT\n",
      "Wow ==> INTJ\n",
      "” ==> PUNCT\n",
      "is ==> AUX\n",
      "the ==> DET\n",
      "first ==> ADJ\n",
      "word ==> NOUN\n",
      "that ==> PRON\n",
      "comes ==> VERB\n",
      "to ==> ADP\n",
      "mind ==> NOUN\n",
      "when ==> SCONJ\n",
      "tasting ==> VERB\n",
      "this ==> DET\n",
      "superconcentrated ==> VERB\n",
      "and ==> CCONJ\n",
      "immensely ==> ADV\n",
      "fruity ==> NOUN\n",
      "wine ==> NOUN\n",
      ". ==> PUNCT\n",
      "It ==> PRON\n",
      "practically ==> ADV\n",
      "overwhelms ==> VERB\n",
      "the ==> DET\n",
      "nose ==> NOUN\n",
      "and ==> CCONJ\n",
      "the ==> DET\n",
      "palate ==> NOUN\n",
      "with ==> ADP\n",
      "ripe ==> ADJ\n",
      ", ==> PUNCT\n",
      "jammy ==> PROPN\n",
      "boysenberry ==> PROPN\n",
      "and ==> CCONJ\n",
      "blackberry ==> NOUN\n",
      ", ==> PUNCT\n",
      "sprinkled ==> VERB\n",
      "with ==> ADP\n",
      "licorice ==> ADJ\n",
      "and ==> CCONJ\n",
      "black ==> ADJ\n",
      "- ==> PUNCT\n",
      "pepper ==> NOUN\n",
      "nuances ==> NOUN\n",
      "that ==> PRON\n",
      "add ==> VERB\n",
      "attractive ==> ADJ\n",
      "complexity ==> NOUN\n",
      ". ==> PUNCT\n",
      "It ==> PRON\n",
      "'s ==> AUX\n",
      "a ==> DET\n",
      "big ==> ADJ\n",
      "wine ==> NOUN\n",
      "all ==> DET\n",
      "the ==> DET\n",
      "way ==> NOUN\n",
      ", ==> PUNCT\n",
      "but ==> CCONJ\n",
      "not ==> PART\n",
      "extreme ==> ADJ\n",
      "in ==> ADP\n",
      "alcohol ==> NOUN\n",
      ". ==> PUNCT\n"
     ]
    }
   ],
   "source": [
    "for i in doc:  # pos_ : part of speech\n",
    "    print(i ,'==>', i.pos_) # pron = proper noun , for full form of pos aux , adp etc google it"
   ]
  },
  {
   "cell_type": "code",
   "execution_count": 12,
   "id": "62c9781b-5feb-44a6-be95-da1d18c8fd51",
   "metadata": {},
   "outputs": [
    {
     "data": {
      "text/plain": [
       "'INTJ'"
      ]
     },
     "execution_count": 12,
     "metadata": {},
     "output_type": "execute_result"
    }
   ],
   "source": [
    "doc[1].pos_  # integer"
   ]
  },
  {
   "cell_type": "code",
   "execution_count": 13,
   "id": "ddece678-9ff9-45eb-95ed-d41f82e6b813",
   "metadata": {},
   "outputs": [
    {
     "data": {
      "text/plain": [
       "to mind when tasting this"
      ]
     },
     "execution_count": 13,
     "metadata": {},
     "output_type": "execute_result"
    }
   ],
   "source": [
    "doc[9:14] # part of words from entire document"
   ]
  },
  {
   "cell_type": "code",
   "execution_count": null,
   "id": "4108c356-6329-49da-9a6f-6be3ca13121e",
   "metadata": {},
   "outputs": [],
   "source": []
  },
  {
   "cell_type": "markdown",
   "id": "171505fc-89cc-4c44-8788-ff57fb230bb2",
   "metadata": {},
   "source": [
    "if you have very big document and you want to see how many sentences are there so it helps to see."
   ]
  },
  {
   "cell_type": "code",
   "execution_count": 14,
   "id": "bd8160f4-a6c1-4ca2-993c-97ca8b5dbdeb",
   "metadata": {},
   "outputs": [
    {
     "name": "stdout",
     "output_type": "stream",
     "text": [
      "“Wow” is the first word that comes to mind when tasting this superconcentrated and immensely fruity wine.\n",
      "It practically overwhelms the nose and the palate with ripe, jammy boysenberry and blackberry, sprinkled with licorice and black-pepper nuances that add attractive complexity.\n",
      "It's a big wine all the way, but not extreme in alcohol.\n"
     ]
    }
   ],
   "source": [
    "for i in doc.sents:\n",
    "    print(i)"
   ]
  },
  {
   "cell_type": "code",
   "execution_count": 15,
   "id": "f1c2f678-6a79-4900-a9c5-16352177105a",
   "metadata": {},
   "outputs": [
    {
     "data": {
      "text/plain": [
       "'\"Chremisa,\" the ancient name of Krems, is commemorated in this wine that comes from Krems vineyards. It has tight, tangy apple-driven acidity, with a bright, light, citrusy character. Not for aging.'"
      ]
     },
     "execution_count": 15,
     "metadata": {},
     "output_type": "execute_result"
    }
   ],
   "source": [
    "df.description.min()"
   ]
  },
  {
   "cell_type": "code",
   "execution_count": 16,
   "id": "b70bbda3-1ffa-4bd9-92f8-1c92b582e36e",
   "metadata": {},
   "outputs": [],
   "source": [
    "doc2 = lang(df.description.min())"
   ]
  },
  {
   "cell_type": "code",
   "execution_count": 17,
   "id": "37cee5c2-4519-485e-b01f-076b46a277e2",
   "metadata": {},
   "outputs": [
    {
     "name": "stdout",
     "output_type": "stream",
     "text": [
      "\"Chremisa,\" the ancient name of Krems, is commemorated in this wine that comes from Krems vineyards.\n",
      "It has tight, tangy apple-driven acidity, with a bright, light, citrusy character.\n",
      "Not for aging.\n"
     ]
    }
   ],
   "source": [
    "for i in doc2.sents:\n",
    "    print(i)"
   ]
  },
  {
   "cell_type": "code",
   "execution_count": 18,
   "id": "cf0e999f-e1a4-4a3a-860d-5fd0dbdf02d6",
   "metadata": {},
   "outputs": [
    {
     "name": "stdout",
     "output_type": "stream",
     "text": [
      "“|Wow|”|is|the|first|word|that|comes|to|mind|when|tasting|this|superconcentrated|and|immensely|fruity|wine|.|It|practically|overwhelms|the|nose|and|the|palate|with|ripe|,|jammy|boysenberry|and|blackberry|,|sprinkled|with|licorice|and|black|-|pepper|nuances|that|add|attractive|complexity|.|It|'s|a|big|wine|all|the|way|,|but|not|extreme|in|alcohol|.|"
     ]
    }
   ],
   "source": [
    "for i in doc:\n",
    "    print(i.text , end = '|')  # for seperate each words and punctuations"
   ]
  },
  {
   "cell_type": "code",
   "execution_count": 19,
   "id": "299632ee-7e82-4515-abcf-5efb983b7dc1",
   "metadata": {},
   "outputs": [
    {
     "name": "stdout",
     "output_type": "stream",
     "text": [
      "Chremisa\n",
      "Krems\n",
      "Krems\n"
     ]
    }
   ],
   "source": [
    "for i in doc2.ents:  #ents means entity\n",
    "    print(i)"
   ]
  },
  {
   "cell_type": "code",
   "execution_count": 20,
   "id": "fc94aeb7-c88b-41d3-9fb5-91a117d54b36",
   "metadata": {},
   "outputs": [
    {
     "name": "stdout",
     "output_type": "stream",
     "text": [
      "Chremisa\n",
      "PERSON\n",
      "------\n",
      "Krems\n",
      "GPE\n",
      "------\n",
      "Krems\n",
      "GPE\n",
      "------\n"
     ]
    }
   ],
   "source": [
    "for token in doc2.ents:\n",
    "    print(token) \n",
    "    print(token.label_)\n",
    "    print('------')"
   ]
  },
  {
   "cell_type": "markdown",
   "id": "2bd5f3b0-a77a-4360-87eb-6174dc47c066",
   "metadata": {},
   "source": [
    "sometimes spacy is fair enough to understand sometimes it not"
   ]
  },
  {
   "cell_type": "code",
   "execution_count": 21,
   "id": "840e1e30-6c63-43e0-9030-eab9268a6f41",
   "metadata": {},
   "outputs": [
    {
     "data": {
      "text/html": [
       "<span class=\"tex2jax_ignore\"><div class=\"entities\" style=\"line-height: 2.5; direction: ltr\">\n",
       "<mark class=\"entity\" style=\"background: #bfe1d9; padding: 0.45em 0.6em; margin: 0 0.25em; line-height: 1; border-radius: 0.35em;\">\n",
       "    last year\n",
       "    <span style=\"font-size: 0.8em; font-weight: bold; line-height: 1; border-radius: 0.35em; vertical-align: middle; margin-left: 0.5rem\">DATE</span>\n",
       "</mark>\n",
       " \n",
       "<mark class=\"entity\" style=\"background: #aa9cfc; padding: 0.45em 0.6em; margin: 0 0.25em; line-height: 1; border-radius: 0.35em;\">\n",
       "    MGhector\n",
       "    <span style=\"font-size: 0.8em; font-weight: bold; line-height: 1; border-radius: 0.35em; vertical-align: middle; margin-left: 0.5rem\">PERSON</span>\n",
       "</mark>\n",
       " sold \n",
       "<mark class=\"entity\" style=\"background: #e4e7d2; padding: 0.45em 0.6em; margin: 0 0.25em; line-height: 1; border-radius: 0.35em;\">\n",
       "    15000\n",
       "    <span style=\"font-size: 0.8em; font-weight: bold; line-height: 1; border-radius: 0.35em; vertical-align: middle; margin-left: 0.5rem\">CARDINAL</span>\n",
       "</mark>\n",
       " cars in \n",
       "<mark class=\"entity\" style=\"background: #feca74; padding: 0.45em 0.6em; margin: 0 0.25em; line-height: 1; border-radius: 0.35em;\">\n",
       "    india\n",
       "    <span style=\"font-size: 0.8em; font-weight: bold; line-height: 1; border-radius: 0.35em; vertical-align: middle; margin-left: 0.5rem\">GPE</span>\n",
       "</mark>\n",
       "</div></span>"
      ],
      "text/plain": [
       "<IPython.core.display.HTML object>"
      ]
     },
     "metadata": {},
     "output_type": "display_data"
    }
   ],
   "source": [
    "# to highlight the entities\n",
    "doc3 = lang('last year MGhector sold 15000 cars in india')\n",
    "from spacy import displacy\n",
    "displacy.render(doc3 , style = 'ent')"
   ]
  },
  {
   "cell_type": "code",
   "execution_count": 26,
   "id": "59da35f5-e419-4e5d-bc0e-2453cadbb7ba",
   "metadata": {},
   "outputs": [
    {
     "name": "stdout",
     "output_type": "stream",
     "text": [
      "swim its stemming is ==> swim\n",
      "swimmer its stemming is ==> swimmer\n",
      "swimming its stemming is ==> swim\n",
      "swam its stemming is ==> swam\n",
      "match its stemming is ==> match\n",
      "matches its stemming is ==> match\n",
      "run its stemming is ==> run\n",
      "running its stemming is ==> run\n",
      "humans its stemming is ==> human\n",
      "celebrities its stemming is ==> celebr\n"
     ]
    }
   ],
   "source": [
    "# stemming using nltk\n",
    "# stemming means mapping to the rootwords\n",
    "import nltk\n",
    "from nltk.stem.snowball import SnowballStemmer\n",
    "stemmer = SnowballStemmer(language = 'english')\n",
    "word_list = ['swim','swimmer','swimming','swam','match','matches','run','running','humans','celebrities']\n",
    "for i in word_list:\n",
    "    print(i , 'its stemming is ==>' , stemmer.stem(i))"
   ]
  },
  {
   "cell_type": "code",
   "execution_count": 28,
   "id": "2b21da7f-7ad7-4aeb-88a5-381c736ac7f1",
   "metadata": {},
   "outputs": [
    {
     "name": "stdout",
     "output_type": "stream",
     "text": [
      "{'beforehand', 'can', 'an', 'my', 'wherever', 'eleven', 'latter', 'with', 'everyone', 'they', 'never', 'under', 'front', 'already', 'across', 'at', 'former', 'during', 'keep', 'hereupon', 'since', 'regarding', 'done', '‘re', 'say', 'has', 'however', 'hers', \"n't\", 'those', 'moreover', 'doing', 'himself', 'less', 'still', 'seem', 'call', 'throughout', 'each', '‘ve', 'rather', 'take', 'above', 'be', 'who', 'used', 'nine', 'another', 'very', 'may', 'nevertheless', 'using', 'been', 'besides', 'per', 'which', 'due', 'this', 'amount', 'us', 'many', 'via', 'around', 'every', 'them', 'otherwise', 'full', 'bottom', 'go', 'these', 'afterwards', '‘s', 'sometimes', 'others', 'not', 'behind', 'neither', 'hundred', 'four', 'seems', 'your', 'hereby', 'whom', 'than', 'along', 'side', 'down', 'whence', 'after', 'while', 'become', 'one', 'within', 'over', 'it', 'when', '’s', '‘ll', 'onto', 'am', 'she', 'although', 'fifteen', 'were', 'together', 'all', 're', 'only', 'first', 'before', 'though', 'amongst', 'could', 'beyond', 'until', 'both', 'last', 'make', 'on', 'why', 'must', 'below', 'between', 'move', 'own', 'as', 'whereas', 'elsewhere', '‘m', 'to', 'anywhere', 'thence', 'what', 'always', 'being', 'show', 'beside', 'least', 'most', 'cannot', 'everything', 'her', 'several', 'no', 'yours', 'nowhere', 'some', 'none', 'made', 'against', 'part', 'but', 'such', 'anything', 'even', 'anyone', 'from', 'our', 'here', 'where', 'so', 'herein', 'fifty', 'meanwhile', 'about', 'somehow', 'the', 'perhaps', 'empty', 'whither', 'yourselves', 'towards', 'three', '’re', 'ten', 'would', 'anyway', 'serious', 'therefore', 'me', 'off', 'sometime', 'unless', 'else', 'whereafter', 'whenever', 'i', 'becoming', 'that', 'same', 'whether', 'for', 'mine', 'get', 'became', 'forty', 'by', 'ca', 'among', 'n’t', 'two', 'whereby', 'up', 'wherein', 'ever', 'five', \"'d\", 'does', 'out', '’m', 'few', 'whose', 'formerly', '’ll', 'eight', 'its', 'twelve', 'thru', 'ours', 'should', 'more', 'therein', 'thus', 'mostly', 'enough', 'somewhere', 'top', 'have', 'itself', 'because', 'into', 'much', 'he', 'then', 'themselves', 'is', 'often', 'further', 'next', 'namely', 'third', 'please', 'nobody', 'him', 'seemed', 'and', 'upon', 'quite', 'did', 'herself', 'other', 'various', \"'re\", 'noone', 'whole', 'back', 'something', 'thereby', 'n‘t', 'had', 'put', 'whoever', 'alone', 'give', 'myself', 'we', \"'s\", 'hereafter', 'well', 'see', 'nor', 'whatever', 'either', 'becomes', 'name', 'their', 'now', 'there', 'might', 'toward', 'really', 'in', 'seeming', '’d', 'do', 'a', '’ve', 'everywhere', 'are', 'through', 'too', 'nothing', 'just', 'thereafter', 'again', 'of', 'anyhow', 'thereupon', 'twenty', 'whereupon', \"'ll\", 'was', 'yet', '‘d', 'any', 'his', 'indeed', 'ourselves', 'hence', 'once', 'how', 'you', 'except', \"'m\", 'latterly', 'almost', 'six', 'someone', \"'ve\", 'yourself', 'if', 'sixty', 'will', 'without', 'also', 'or'}\n"
     ]
    }
   ],
   "source": [
    "lang = spacy.load('en_core_web_sm')\n",
    "print(lang.Defaults.stop_words) # if you want to remove the stopwords you can take the stopwords from this libraries "
   ]
  },
  {
   "cell_type": "code",
   "execution_count": 29,
   "id": "f1c882a6-577f-464e-9cea-4b8295553f48",
   "metadata": {},
   "outputs": [
    {
     "data": {
      "text/plain": [
       "326"
      ]
     },
     "execution_count": 29,
     "metadata": {},
     "output_type": "execute_result"
    }
   ],
   "source": [
    "# am--> m \n",
    "# there are many stopwords\n",
    "len(lang.Defaults.stop_words)"
   ]
  },
  {
   "cell_type": "code",
   "execution_count": null,
   "id": "35fe153a-f58c-4ed4-8b33-76c5b9ceb095",
   "metadata": {},
   "outputs": [],
   "source": []
  }
 ],
 "metadata": {
  "kernelspec": {
   "display_name": "Python 3 (ipykernel)",
   "language": "python",
   "name": "python3"
  },
  "language_info": {
   "codemirror_mode": {
    "name": "ipython",
    "version": 3
   },
   "file_extension": ".py",
   "mimetype": "text/x-python",
   "name": "python",
   "nbconvert_exporter": "python",
   "pygments_lexer": "ipython3",
   "version": "3.9.12"
  }
 },
 "nbformat": 4,
 "nbformat_minor": 5
}
